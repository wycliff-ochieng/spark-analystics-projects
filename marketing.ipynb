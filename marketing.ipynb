{
 "cells": [
  {
   "cell_type": "code",
   "execution_count": 1,
   "metadata": {},
   "outputs": [
    {
     "name": "stdout",
     "output_type": "stream",
     "text": [
      "root\n",
      " |-- order_id: integer (nullable = true)\n",
      " |-- user_id: integer (nullable = true)\n",
      " |-- order_number: integer (nullable = true)\n",
      " |-- order_dow: integer (nullable = true)\n",
      " |-- order_hour_of_day: integer (nullable = true)\n",
      " |-- days_since_prior_order: double (nullable = true)\n",
      " |-- product_id: integer (nullable = true)\n",
      " |-- add_to_cart_order: integer (nullable = true)\n",
      " |-- reordered: integer (nullable = true)\n",
      " |-- department_id: integer (nullable = true)\n",
      " |-- department: string (nullable = true)\n",
      " |-- product_name: string (nullable = true)\n",
      "\n"
     ]
    }
   ],
   "source": [
    "from pyspark.sql import SparkSession\n",
    "from pyspark.sql.functions import *\n",
    "\n",
    "spark = SparkSession.builder.appName('marketing').getOrCreate()\n",
    "\n",
    "marketingDF = spark.read.option('inferSchema','true').option('header','true')\\\n",
    "    .csv(r\"\\Users\\Admin\\Desktop\\pyspark\\data\\ECommerce_consumer behaviour.csv\")\n",
    "\n",
    "marketingDF.printSchema()"
   ]
  },
  {
   "cell_type": "code",
   "execution_count": 2,
   "metadata": {},
   "outputs": [
    {
     "name": "stdout",
     "output_type": "stream",
     "text": [
      "+--------+-------+------------+---------+-----------------+----------------------+----------+-----------------+---------+-------------+----------+------------+\n",
      "|order_id|user_id|order_number|order_dow|order_hour_of_day|days_since_prior_order|product_id|add_to_cart_order|reordered|department_id|department|product_name|\n",
      "+--------+-------+------------+---------+-----------------+----------------------+----------+-----------------+---------+-------------+----------+------------+\n",
      "|   false|  false|       false|    false|            false|                  true|     false|            false|    false|        false|     false|       false|\n",
      "|   false|  false|       false|    false|            false|                  true|     false|            false|    false|        false|     false|       false|\n",
      "|   false|  false|       false|    false|            false|                  true|     false|            false|    false|        false|     false|       false|\n",
      "|   false|  false|       false|    false|            false|                  true|     false|            false|    false|        false|     false|       false|\n",
      "|   false|  false|       false|    false|            false|                  true|     false|            false|    false|        false|     false|       false|\n",
      "|   false|  false|       false|    false|            false|                  true|     false|            false|    false|        false|     false|       false|\n",
      "|   false|  false|       false|    false|            false|                  true|     false|            false|    false|        false|     false|       false|\n",
      "|   false|  false|       false|    false|            false|                  true|     false|            false|    false|        false|     false|       false|\n",
      "|   false|  false|       false|    false|            false|                  true|     false|            false|    false|        false|     false|       false|\n",
      "|   false|  false|       false|    false|            false|                  true|     false|            false|    false|        false|     false|       false|\n",
      "|   false|  false|       false|    false|            false|                  true|     false|            false|    false|        false|     false|       false|\n",
      "|   false|  false|       false|    false|            false|                  true|     false|            false|    false|        false|     false|       false|\n",
      "|   false|  false|       false|    false|            false|                  true|     false|            false|    false|        false|     false|       false|\n",
      "|   false|  false|       false|    false|            false|                  true|     false|            false|    false|        false|     false|       false|\n",
      "|   false|  false|       false|    false|            false|                  true|     false|            false|    false|        false|     false|       false|\n",
      "|   false|  false|       false|    false|            false|                  true|     false|            false|    false|        false|     false|       false|\n",
      "|   false|  false|       false|    false|            false|                  true|     false|            false|    false|        false|     false|       false|\n",
      "|   false|  false|       false|    false|            false|                  true|     false|            false|    false|        false|     false|       false|\n",
      "|   false|  false|       false|    false|            false|                  true|     false|            false|    false|        false|     false|       false|\n",
      "|   false|  false|       false|    false|            false|                  true|     false|            false|    false|        false|     false|       false|\n",
      "+--------+-------+------------+---------+-----------------+----------------------+----------+-----------------+---------+-------------+----------+------------+\n",
      "only showing top 20 rows\n",
      "\n",
      "+--------+-------+------------+---------+-----------------+----------------------+----------+-----------------+---------+-------------+----------+------------+\n",
      "|order_id|user_id|order_number|order_dow|order_hour_of_day|days_since_prior_order|product_id|add_to_cart_order|reordered|department_id|department|product_name|\n",
      "+--------+-------+------------+---------+-----------------+----------------------+----------+-----------------+---------+-------------+----------+------------+\n",
      "|       0|      0|           0|        0|                0|                124342|         0|                0|        0|            0|         0|           0|\n",
      "+--------+-------+------------+---------+-----------------+----------------------+----------+-----------------+---------+-------------+----------+------------+\n",
      "\n"
     ]
    }
   ],
   "source": [
    "#checking for missing values\n",
    "marketingDF.select([col(c).isNull().alias(c) for c in marketingDF.columns]).show()\n",
    "\n",
    "marketingDF.select([sum(col(c).isNull().cast('int')).alias(c) for c in marketingDF.columns]).show()"
   ]
  },
  {
   "cell_type": "code",
   "execution_count": 3,
   "metadata": {},
   "outputs": [
    {
     "name": "stdout",
     "output_type": "stream",
     "text": [
      "+--------+-------+------------+---------+-----------------+----------+-----------------+---------+-------------+----------+------------------+\n",
      "|order_id|user_id|order_number|order_dow|order_hour_of_day|product_id|add_to_cart_order|reordered|department_id|department|      product_name|\n",
      "+--------+-------+------------+---------+-----------------+----------+-----------------+---------+-------------+----------+------------------+\n",
      "| 2425083|  49125|           1|        2|               18|        17|                1|        0|           13|    pantry|baking ingredients|\n",
      "| 2425083|  49125|           1|        2|               18|        91|                2|        0|           16|dairy eggs|   soy lactosefree|\n",
      "| 2425083|  49125|           1|        2|               18|        36|                3|        0|           16|dairy eggs|            butter|\n",
      "| 2425083|  49125|           1|        2|               18|        83|                4|        0|            4|   produce|  fresh vegetables|\n",
      "| 2425083|  49125|           1|        2|               18|        83|                5|        0|            4|   produce|  fresh vegetables|\n",
      "+--------+-------+------------+---------+-----------------+----------+-----------------+---------+-------------+----------+------------------+\n",
      "only showing top 5 rows\n",
      "\n"
     ]
    }
   ],
   "source": [
    "marketingDF.drop(marketingDF['days_since_prior_order']).show(5)"
   ]
  },
  {
   "cell_type": "code",
   "execution_count": 4,
   "metadata": {},
   "outputs": [
    {
     "name": "stdout",
     "output_type": "stream",
     "text": [
      "+--------------+\n",
      "|count(user_id)|\n",
      "+--------------+\n",
      "|       2019501|\n",
      "+--------------+\n",
      "\n",
      "+-----------------------+\n",
      "|count(DISTINCT user_id)|\n",
      "+-----------------------+\n",
      "|                 105273|\n",
      "+-----------------------+\n",
      "\n",
      "+--------------+\n",
      "|count(user_id)|\n",
      "+--------------+\n",
      "|       2019501|\n",
      "+--------------+\n",
      "\n"
     ]
    }
   ],
   "source": [
    "#checking for duplicates (output clearly shows presence of duplicates)\n",
    "marketingDF.select(count(\"user_id\")).show()\n",
    "marketingDF.select(countDistinct(\"user_id\")).show()\n",
    "marketingDF = marketingDF.dropDuplicates()\n",
    "marketingDF.select(count(\"user_id\")).show()\n"
   ]
  },
  {
   "cell_type": "code",
   "execution_count": 5,
   "metadata": {},
   "outputs": [
    {
     "name": "stdout",
     "output_type": "stream",
     "text": [
      "+-------------+------+\n",
      "|department_id| count|\n",
      "+-------------+------+\n",
      "|           10|  2133|\n",
      "|            2|  2240|\n",
      "|           21|  4749|\n",
      "|            8|  6013|\n",
      "|            5|  9439|\n",
      "|            6| 16738|\n",
      "|           18| 25940|\n",
      "|           11| 28134|\n",
      "|           12| 44271|\n",
      "|           14| 44605|\n",
      "|           17| 46446|\n",
      "|            9| 54054|\n",
      "|           20| 65176|\n",
      "|           15| 66053|\n",
      "|            3| 72983|\n",
      "|           13|116262|\n",
      "|            1|139536|\n",
      "|            7|168126|\n",
      "|           19|180692|\n",
      "|           16|336915|\n",
      "+-------------+------+\n",
      "only showing top 20 rows\n",
      "\n",
      "+---------------+------+\n",
      "|     department| count|\n",
      "+---------------+------+\n",
      "|        produce|588996|\n",
      "|     dairy eggs|336915|\n",
      "|         snacks|180692|\n",
      "|      beverages|168126|\n",
      "|         frozen|139536|\n",
      "|         pantry|116262|\n",
      "|         bakery| 72983|\n",
      "|   canned goods| 66053|\n",
      "|           deli| 65176|\n",
      "|dry goods pasta| 54054|\n",
      "|      household| 46446|\n",
      "|      breakfast| 44605|\n",
      "|   meat seafood| 44271|\n",
      "|  personal care| 28134|\n",
      "|         babies| 25940|\n",
      "|  international| 16738|\n",
      "|        alcohol|  9439|\n",
      "|           pets|  6013|\n",
      "|        missing|  4749|\n",
      "|          other|  2240|\n",
      "+---------------+------+\n",
      "only showing top 20 rows\n",
      "\n",
      "+--------------------+-----+\n",
      "|        product_name|count|\n",
      "+--------------------+-----+\n",
      "|        frozen juice|  279|\n",
      "|              beauty|  387|\n",
      "|    baby accessories|  504|\n",
      "| baby bath body care|  515|\n",
      "|    kitchen supplies|  561|\n",
      "|        eye ear care|  598|\n",
      "|specialty wines c...|  614|\n",
      "|         shave needs|  646|\n",
      "|           skin care|  654|\n",
      "|           first aid|  693|\n",
      "|        kosher foods|  697|\n",
      "|  ice cream toppings|  706|\n",
      "|         facial care|  843|\n",
      "|          deodorants|  924|\n",
      "|        indian foods|  963|\n",
      "|bulk dried fruits...| 1059|\n",
      "|bulk grains rice ...| 1074|\n",
      "|      more household| 1170|\n",
      "|      frozen dessert| 1190|\n",
      "|muscles joints pa...| 1256|\n",
      "+--------------------+-----+\n",
      "only showing top 20 rows\n",
      "\n"
     ]
    }
   ],
   "source": [
    "#distribution of product categories (counts of product categories sold,sum of products sold)\n",
    "\n",
    "# using this we can: 1.Get total sales of the supermarket\n",
    "#                    2.Top & least selling products by revenue\n",
    "#                    3.Total revenue generated by product catgery(ddepartment)\n",
    "#                    4. \n",
    "\n",
    "marketingDF.groupBy('department_id').count().orderBy(\"count\", ascending=True).show()\n",
    "marketingDF.groupBy('department').count().orderBy(\"count\",ascending=False).show()\n",
    "marketingDF.groupBy('product_name').count().orderBy(\"count\",ascending=True).show()\n",
    "\n"
   ]
  },
  {
   "cell_type": "code",
   "execution_count": null,
   "metadata": {},
   "outputs": [
    {
     "name": "stdout",
     "output_type": "stream",
     "text": [
      "+--------+-----+\n",
      "|order_id|count|\n",
      "+--------+-----+\n",
      "|  790903|  137|\n",
      "| 2621625|  109|\n",
      "|  416346|  100|\n",
      "| 1031566|   95|\n",
      "| 2409933|   93|\n",
      "| 1930316|   93|\n",
      "| 2926893|   92|\n",
      "|   45973|   92|\n",
      "|  936852|   87|\n",
      "|   70299|   83|\n",
      "|  293169|   77|\n",
      "| 3310628|   76|\n",
      "| 2869702|   76|\n",
      "|  810928|   74|\n",
      "| 1355077|   74|\n",
      "| 1220886|   72|\n",
      "| 2749239|   72|\n",
      "|   28332|   71|\n",
      "|  346891|   71|\n",
      "| 1208941|   71|\n",
      "+--------+-----+\n",
      "only showing top 20 rows\n",
      "\n"
     ]
    }
   ],
   "source": [
    "#variation of product sales in a certail hours\n",
    "marketingDF.groupBy('order_id').count().orderBy('count',ascending=False).show()"
   ]
  },
  {
   "cell_type": "code",
   "execution_count": null,
   "metadata": {},
   "outputs": [
    {
     "name": "stdout",
     "output_type": "stream",
     "text": [
      "+----------+---------------+--------------------+-----------------+\n",
      "|product_id|count(order_id)|        product_name|order_hour_of_day|\n",
      "+----------+---------------+--------------------+-----------------+\n",
      "|        58|            216|frozen breads doughs|               13|\n",
      "|       131|           1321|           dry pasta|               12|\n",
      "|        45|            843|     candy chocolate|                8|\n",
      "|         4|            606|       instant foods|                8|\n",
      "|        49|            533|    packaged poultry|               17|\n",
      "|        11|            113|    cold flu allergy|               15|\n",
      "|        25|            134|                soap|               20|\n",
      "|         8|            173|     bakery desserts|               10|\n",
      "|        23|            235|       popcorn jerky|                7|\n",
      "|       117|            892|nuts seeds dried ...|               18|\n",
      "|        22|            151|           hair care|               15|\n",
      "|       111|             55|plates bowls cups...|               22|\n",
      "|       109|             52|           skin care|               16|\n",
      "|        82|             39|    baby accessories|                8|\n",
      "|        52|             49|    frozen breakfast|                5|\n",
      "|       109|             64|           skin care|               11|\n",
      "|       122|            107|        meat counter|               21|\n",
      "|        84|           4930|                milk|               10|\n",
      "|        30|            376|        latino foods|               11|\n",
      "|        91|           3087|     soy lactosefree|               12|\n",
      "+----------+---------------+--------------------+-----------------+\n",
      "only showing top 20 rows\n",
      "\n"
     ]
    }
   ],
   "source": [
    "# product sold/odered at each hour,How does product sales performance vary by hour\n",
    "marketingDF.createOrReplaceTempView('sales')\n",
    "sales_per_hour = spark.sql(\n",
    "    \"SELECT product_id,count(order_id),product_name,order_hour_of_day FROM sales GROUP BY order_hour_of_day,product_name,product_id\"\n",
    "    )\n",
    "sales_per_hour.show()"
   ]
  },
  {
   "cell_type": "code",
   "execution_count": null,
   "metadata": {},
   "outputs": [
    {
     "name": "stdout",
     "output_type": "stream",
     "text": [
      "+--------+---------------+\n",
      "|order_id|items_per_order|\n",
      "+--------+---------------+\n",
      "| 3060194|           12.5|\n",
      "|  596351|           18.0|\n",
      "| 2229935|           11.0|\n",
      "| 2527139|            6.5|\n",
      "|  599057|            4.0|\n",
      "|  692091|            4.0|\n",
      "| 1296515|            9.0|\n",
      "| 1115188|            4.5|\n",
      "| 2599587|            8.5|\n",
      "| 3095942|            8.0|\n",
      "|  930298|           11.5|\n",
      "| 2664273|            4.0|\n",
      "| 2448538|            7.0|\n",
      "| 3261003|            5.5|\n",
      "|  683541|            4.5|\n",
      "|  579502|           13.0|\n",
      "| 1957852|           19.5|\n",
      "| 2749827|            8.0|\n",
      "| 1609475|            6.0|\n",
      "| 1074329|            4.5|\n",
      "+--------+---------------+\n",
      "only showing top 20 rows\n",
      "\n"
     ]
    }
   ],
   "source": [
    "#average number of items in an order\n",
    "avg_items_per_order = spark.sql(\n",
    "    \"SELECT order_id,avg(add_to_cart_order) AS items_per_order FROM sales group by order_id\"\n",
    "    )\n",
    "avg_items_per_order.show()"
   ]
  },
  {
   "cell_type": "code",
   "execution_count": 24,
   "metadata": {},
   "outputs": [
    {
     "name": "stdout",
     "output_type": "stream",
     "text": [
      "+----------------------+-------------+\n",
      "|sum(add_to_cart_order)|department_id|\n",
      "+----------------------+-------------+\n",
      "|                378104|           12|\n",
      "|               1263140|            1|\n",
      "|               1119987|           13|\n",
      "|               2536790|           16|\n",
      "|                167096|            6|\n",
      "|                589153|            3|\n",
      "|                568239|           20|\n",
      "|                 48776|            5|\n",
      "|               1663523|           19|\n",
      "|                653360|           15|\n",
      "|                551369|            9|\n",
      "|                394174|           17|\n",
      "|               4732268|            4|\n",
      "|                 45866|            8|\n",
      "|               1165314|            7|\n",
      "|                 17995|           10|\n",
      "|                 43744|           21|\n",
      "|                248205|           11|\n",
      "|                412021|           14|\n",
      "|                 18203|            2|\n",
      "+----------------------+-------------+\n",
      "only showing top 20 rows\n",
      "\n"
     ]
    }
   ],
   "source": [
    "most_sales_per_dept = spark.sql(\n",
    "    \"SELECT SUM(add_to_cart_order),department_id FROM sales GROUP BY department_id\"\n",
    "    )\n",
    "most_sales_per_dept.show()"
   ]
  },
  {
   "cell_type": "code",
   "execution_count": 15,
   "metadata": {},
   "outputs": [
    {
     "name": "stdout",
     "output_type": "stream",
     "text": [
      "+-------+------------+\n",
      "|user_id|total_orders|\n",
      "+-------+------------+\n",
      "| 176478|         460|\n",
      "| 129928|         405|\n",
      "| 126305|         384|\n",
      "| 201268|         347|\n",
      "| 115495|         283|\n",
      "| 100330|         271|\n",
      "|  31903|         270|\n",
      "|  15503|         258|\n",
      "| 105213|         245|\n",
      "| 203166|         240|\n",
      "| 193539|         238|\n",
      "|  17738|         236|\n",
      "|  60694|         232|\n",
      "|  97816|         227|\n",
      "| 175294|         223|\n",
      "|  96305|         213|\n",
      "|  11375|         213|\n",
      "|  33731|         212|\n",
      "| 180203|         212|\n",
      "| 167069|         210|\n",
      "+-------+------------+\n",
      "only showing top 20 rows\n",
      "\n"
     ]
    }
   ],
   "source": [
    "#customers with most orders(for marketing in form of offering vouchers)\n",
    "customers_with_most_orders = spark.sql(\n",
    "    \"SELECT user_id,count(order_id) AS total_orders FROM sales GROUP BY user_id ORDER BY total_orders DESC\"\n",
    "    )\n",
    "customers_with_most_orders.show()"
   ]
  }
 ],
 "metadata": {
  "kernelspec": {
   "display_name": "myspark",
   "language": "python",
   "name": "python3"
  },
  "language_info": {
   "codemirror_mode": {
    "name": "ipython",
    "version": 3
   },
   "file_extension": ".py",
   "mimetype": "text/x-python",
   "name": "python",
   "nbconvert_exporter": "python",
   "pygments_lexer": "ipython3",
   "version": "3.12.2"
  }
 },
 "nbformat": 4,
 "nbformat_minor": 2
}
